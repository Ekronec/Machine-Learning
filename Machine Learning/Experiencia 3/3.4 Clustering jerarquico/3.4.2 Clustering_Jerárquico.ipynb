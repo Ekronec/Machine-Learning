{
  "nbformat": 4,
  "nbformat_minor": 0,
  "metadata": {
    "colab": {
      "provenance": []
    },
    "kernelspec": {
      "name": "python3",
      "display_name": "Python 3"
    },
    "language_info": {
      "name": "python"
    }
  },
  "cells": [
    {
      "cell_type": "markdown",
      "metadata": {
        "id": "OuwZN8DOfUcX"
      },
      "source": [
        "## [Clustering Jerárquico](https://scikit-learn.org/stable/modules/generated/sklearn.cluster.AgglomerativeClustering.html#sklearn.cluster.AgglomerativeClustering)\n",
        "\n",
        "Los métodos de clustering jerárquico buscan agrupar las samples más similares para formar grupos con características similares.\n",
        "\n",
        "1. **Agglomerative**: cada sample es un cluster y en cada paso va agrupando los clusters más similares hasta quedarse con un solo cluster\n",
        "2. **Divisive**: todas las samples comienzan en el mismo cluster y en cada paso va cortando las samples menos similares hasta que todas las samples sean un cluster distinto\n",
        "\n",
        "En esta notebook vamos a ver el primer tipo de clustering jerárquico aplicado a un dataset de tendencias de compra de clientes de un shopping"
      ]
    },
    {
      "cell_type": "code",
      "metadata": {
        "id": "GaTBnPqxgd86"
      },
      "source": [
        "import pandas as pd\n",
        "import numpy as np\n",
        "import matplotlib.pyplot as plt\n",
        "import seaborn as sb\n",
        "\n",
        "from scipy.cluster.hierarchy import dendrogram, linkage\n",
        "import scipy.cluster.hierarchy as shc"
      ],
      "execution_count": null,
      "outputs": []
    },
    {
      "cell_type": "code",
      "metadata": {
        "id": "Rl1_n6t_clT5"
      },
      "source": [
        "# cargamos el dataset\n",
        "from google.colab import files\n",
        "uploaded = files.upload()\n",
        "for fn in uploaded.keys():\n",
        "    name=fn\n",
        "data_frame = pd.read_csv(name, sep=\",\")\n",
        "data_frame.head()"
      ],
      "execution_count": null,
      "outputs": []
    },
    {
      "cell_type": "code",
      "metadata": {
        "id": "iehHf4Smg1NY"
      },
      "source": [
        "data_frame.shape"
      ],
      "execution_count": null,
      "outputs": []
    },
    {
      "cell_type": "markdown",
      "metadata": {
        "id": "mTgOMf11hKG3"
      },
      "source": [
        "Este dataset tiene de features una ID asociada a cada uno de los 200 clientes, el género binario, la edad de la persona, el ingreso anual (en miles de dolares) y un puntaje asociado a cuán a menudo un cliente gasta plata en el shopping siendo 100 el cliente que más gasta."
      ]
    },
    {
      "cell_type": "markdown",
      "metadata": {
        "id": "ZnqJXDSghpt5"
      },
      "source": [
        "Vamos a tratar de agrupar a los clientes utilizando solo dos features del dataset: su sueldo anual y el puntaje de gastos"
      ]
    },
    {
      "cell_type": "code",
      "metadata": {
        "id": "WRcJ6mGkhK66"
      },
      "source": [
        "data_selected = data_frame.iloc[:, 3:5].values\n",
        "pd.DataFrame(data_selected)"
      ],
      "execution_count": null,
      "outputs": []
    },
    {
      "cell_type": "code",
      "metadata": {
        "id": "-3XcPn2riqwx"
      },
      "source": [
        "# graficos los datos para ver si vemos algun patrón\n",
        "plt.figure(figsize=(10, 7))\n",
        "plt.scatter(data_selected[:,0], data_selected[:,1])\n",
        "plt.xlabel(\"Sueldos anuales\")\n",
        "plt.ylabel(\"Puntuación de Gastos\")\n",
        "plt.show()"
      ],
      "execution_count": null,
      "outputs": []
    },
    {
      "cell_type": "markdown",
      "metadata": {
        "id": "aWSL2RvtjMWh"
      },
      "source": [
        "##¿Qué podemos ver? ¿se ven clusters claramente? ¿cuántos?"
      ]
    },
    {
      "cell_type": "markdown",
      "metadata": {
        "id": "XF6Ky_4KjwhR"
      },
      "source": [
        "Vamos a realizar un dendograma del dataset utilizando el método 'ward' para calcular distancias (es el que se suele ultilizar y viene por default). Este método minimiza la varianza dentro de un cluster y maximiza la varianza entre clusters."
      ]
    },
    {
      "cell_type": "code",
      "metadata": {
        "id": "fHY1DAa9j1WS"
      },
      "source": [
        "# Plot del dendograma del dataset de clientes\n",
        "plt.figure(figsize=(13, 10))\n",
        "plt.title(\"Dendograma de clientes\")\n",
        "plt.ylabel(\"Distancia ward\")\n",
        "\n",
        "# Con la función 'dendogram' graficamos el dendograma.\n",
        "# El input de esta función es la función 'linkage' donde se especifica la distancia para utlizar en cada paso del método\n",
        "dend = shc.dendrogram(shc.linkage(data_selected, method='ward'))"
      ],
      "execution_count": null,
      "outputs": []
    },
    {
      "cell_type": "markdown",
      "metadata": {
        "id": "ntkCecePlmk1"
      },
      "source": [
        "Lo que buscamos en el dendograma es la mayor distancia vertical sin que haya una línea horizontal para hacerle un corte (representado como una linea horizontal que cruza todos los datos) y quedarnos con k clusters (donde k es el número de lineas verticales que intersectan el corte."
      ]
    },
    {
      "cell_type": "code",
      "metadata": {
        "id": "rNGOMdRGlnku"
      },
      "source": [
        "# Mismo código anterior\n",
        "plt.figure(figsize=(10, 7))\n",
        "plt.title(\"Dendograma de clientes\")\n",
        "plt.ylabel(\"Distancia ward\")\n",
        "\n",
        "dend = shc.dendrogram(shc.linkage(data_selected, method='ward'))\n",
        "\n",
        "# la única línea de código nueva. Marca una línea roja horizontal\n",
        "plt.axhline(150, c='r')"
      ],
      "execution_count": null,
      "outputs": []
    },
    {
      "cell_type": "markdown",
      "metadata": {
        "id": "P6z5Sl9-mYQK"
      },
      "source": [
        "Vemos que el corte intersecta con 5 líneas verticales por lo que vamos a utilizar el método de clustering jerárquico de sklearn con n_clusters=5"
      ]
    },
    {
      "cell_type": "code",
      "metadata": {
        "id": "D5tM3Y1lmZAO"
      },
      "source": [
        "# Importo el método de clustering jerárquico (bottom-up)\n",
        "from sklearn.cluster import AgglomerativeClustering"
      ],
      "execution_count": null,
      "outputs": []
    },
    {
      "cell_type": "markdown",
      "metadata": {
        "id": "xeb2bSKDmgmT"
      },
      "source": [
        "Ahora sí aplicamos el método de clusterización jerárquica (bottom-up) con 5 clusters, la distancia euclidea para la afinidad y la distancia ward para el linkage"
      ]
    },
    {
      "cell_type": "code",
      "metadata": {
        "id": "MMaLKXvfmpSB"
      },
      "source": [
        "# Creamos el modelo\n",
        "cluster = AgglomerativeClustering(n_clusters=5, affinity='euclidean', linkage='ward')\n",
        "\n",
        "# Lo ajustamos con los datos\n",
        "cluster.fit_predict(data_selected)  # fit_predict hace lo mismo que fit pero devuelve el vector de etiquetas de las samples"
      ],
      "execution_count": null,
      "outputs": []
    },
    {
      "cell_type": "markdown",
      "metadata": {
        "id": "xlARJqZcm1O4"
      },
      "source": [
        "Veamos cómo se ven los datos agrupados en el espacio de features"
      ]
    },
    {
      "cell_type": "code",
      "metadata": {
        "id": "tn0NQ5mmm2lZ"
      },
      "source": [
        "# Ploteamos los datos en el espacio de (Ingresos,Gastos) con un color por cada uno de los 5 clusters\n",
        "plt.figure(figsize=(10, 7))\n",
        "plt.title(\"Dataset de clientes de un shopping\")\n",
        "plt.scatter(data_selected[:,0], data_selected[:,1], c=cluster.labels_, cmap='rainbow')\n",
        "plt.xlabel(\"Ingereso anual (k$)\")\n",
        "plt.ylabel(\"Puntaje de gastos\")"
      ],
      "execution_count": null,
      "outputs": []
    },
    {
      "cell_type": "markdown",
      "metadata": {
        "id": "3UsX0RE_nhKi"
      },
      "source": [
        "##Comente este resultado. ¿Qué tendencia de compras tiene cada color?"
      ]
    },
    {
      "cell_type": "markdown",
      "metadata": {
        "id": "YYXfJVfHoqo7"
      },
      "source": [
        "## [Coeficiente de Silhouette](https://scikit-learn.org/stable/modules/generated/sklearn.metrics.silhouette_score.html)\n",
        "\n",
        "El coeficiente de Silhouette mide qué tan cerca está una muestra a las otras muestras de su cluster y qué tan lejos está con respecto a las muestras del cluster más cercano. Este coeficiente toma valores de [-1,1], -1 sería si los clusters están superpuestos, 0 si hay overlap y 1 que no se tocan.\n",
        "\n",
        "El coeficiente de Silhouette de cada sample la podemos obtener con la clase 'silhouette_samples' de sklearn.metrics\n",
        "\n",
        "El puntaje de Silhouette es el promedio de los coeficientes de Silhouette de todas las samples y se computa con la clase 'silhouette_score' de sklearn.metrics. Hay que pasarle a la función los datos y sus etiquetas."
      ]
    },
    {
      "cell_type": "code",
      "metadata": {
        "id": "tqSuk-UXpyL4"
      },
      "source": [
        "# importamos el puntaje de silhouette\n",
        "from sklearn.metrics import silhouette_score"
      ],
      "execution_count": null,
      "outputs": []
    },
    {
      "cell_type": "code",
      "metadata": {
        "id": "CEKg0NOZp7Wf"
      },
      "source": [
        "# Creamos una lista para guardar de los coeficientes de silhouette para cada valor de k\n",
        "silhouette_coefficients = []\n",
        "\n",
        "# Se necesita tener al menos 2 clusters y a los sumo N-1 (con N el numero de muestras) para obtener coeficientes de Silohuette\n",
        "for k in range(2, 20):\n",
        "     cluster = AgglomerativeClustering(n_clusters=k, affinity='euclidean', linkage='ward')\n",
        "     cluster.fit(data_selected)\n",
        "     score = silhouette_score(data_selected, cluster.labels_)\n",
        "     silhouette_coefficients.append(score)"
      ],
      "execution_count": null,
      "outputs": []
    },
    {
      "cell_type": "markdown",
      "metadata": {
        "id": "jBL7RpTFqoQF"
      },
      "source": [
        "Graficamos el puntaje de Silhouette en función de k"
      ]
    },
    {
      "cell_type": "code",
      "metadata": {
        "id": "XLQFihOmqpG4"
      },
      "source": [
        "fig, ax = plt.subplots(figsize = (24, 7))\n",
        "\n",
        "# estas lineas son el grafico de SSE vs K\n",
        "ax.scatter(range(2, 20), silhouette_coefficients)\n",
        "ax.set_xticks(range(2, 20))\n",
        "ax.set_xlabel(\"Número de clusters\")\n",
        "ax.set_ylabel(\"Promedio coeficientes de Silhouette\")"
      ],
      "execution_count": null,
      "outputs": []
    },
    {
      "cell_type": "markdown",
      "metadata": {
        "id": "Q7K5DzYBrZTR"
      },
      "source": [
        "## ¿Qué podemos decir de este gráfico?"
      ]
    },
    {
      "cell_type": "markdown",
      "metadata": {
        "id": "2MGODQLTroz9"
      },
      "source": [
        "#Resumen de funciones importantes:\n",
        "\n",
        "Puntaje de Silhouette\n",
        "\n",
        "```\n",
        "from sklearn.metrics import silhouette_samples # importamos la clase que computa el coeficiente de silhouette para cada sample\n",
        "\n",
        "from sklearn.metrics import silhouette_score # importamos la clase con la que se calcula el puntaje de silhouette (que es el promedio de los coeficientes de silhouette para cada sample)\n",
        "\n",
        "silhouette_score(data, kkkmeans.labels_) # Devuelve el puntaje de silhouette y toma como input los datos y las etiquetas asociadas\n",
        "```\n",
        "\n",
        "Clustering Jerárquico\n",
        "\n",
        "```\n",
        "import scipy.cluster.hierarchy as shc # Paquete de scipy que tiene la clase 'dendograma' y 'linkage' que vamos a utilizar\n",
        "\n",
        "dend = shc.dendrogram(shc.linkage(data, method='ward')) # Para hacer un dendograma de los datos usando como linkage la distancia ward\n",
        "\n",
        "from sklearn.cluster import AgglomerativeClustering # Importo el método de clustering jerárquico (bottom-up)\n",
        "\n",
        "cluster = AgglomerativeClustering(n_clusters=5, affinity='euclidean', linkage='ward') # Creamos el modelo\n",
        "\n",
        "cluster.fit_predict(sdata)  # Ajustamos el modelo. '.fit_predict' hace lo mismo que '.fit' pero imprime el vector de etiquetas de las samples\n",
        "```\n"
      ]
    },
    {
      "cell_type": "markdown",
      "metadata": {
        "id": "2DpiD_74t4Vt"
      },
      "source": [
        "#Ejercicio Propuesto:\n",
        "\n",
        "Realice el proceso completo, pero ahora use otro par de variables. Compare resultados."
      ]
    }
  ]
}