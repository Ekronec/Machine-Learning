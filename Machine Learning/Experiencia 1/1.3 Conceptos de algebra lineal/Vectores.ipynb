{
  "nbformat": 4,
  "nbformat_minor": 0,
  "metadata": {
    "colab": {
      "provenance": []
    },
    "kernelspec": {
      "name": "python3",
      "display_name": "Python 3"
    },
    "language_info": {
      "name": "python"
    }
  },
  "cells": [
    {
      "cell_type": "code",
      "execution_count": 2,
      "metadata": {
        "colab": {
          "base_uri": "https://localhost:8080/",
          "height": 36
        },
        "id": "ALhCKuLeiEPf",
        "outputId": "0ece0dac-da5a-4dab-9b95-af03925de5c1"
      },
      "outputs": [
        {
          "output_type": "execute_result",
          "data": {
            "text/plain": [
              "'\\nCreated on Tue Feb 16 12:21:35 2016\\n\\n@author: José Arcos Aneas\\n\\nEjercicios de vectores con python \\n'"
            ],
            "application/vnd.google.colaboratory.intrinsic+json": {
              "type": "string"
            }
          },
          "metadata": {},
          "execution_count": 2
        }
      ],
      "source": [
        "# -*- coding: utf-8 -*-\n",
        "\"\"\"\n",
        "Created on Tue Feb 16 12:21:35 2016\n",
        "\n",
        "@author: José Arcos Aneas\n",
        "\n",
        "Ejercicios de vectores con python\n",
        "\"\"\"\n"
      ]
    },
    {
      "cell_type": "code",
      "source": [
        "import matplotlib.pyplot as plt\n",
        "import numpy as np\n",
        "import sympy"
      ],
      "metadata": {
        "id": "EJJAl92ziSsq"
      },
      "execution_count": 3,
      "outputs": []
    },
    {
      "cell_type": "code",
      "source": [
        "# imprimir con notación matemática.\n",
        "sympy.init_printing(use_latex='mathjax')"
      ],
      "metadata": {
        "id": "x3fz0zNCicaz"
      },
      "execution_count": 4,
      "outputs": []
    },
    {
      "cell_type": "code",
      "source": [
        "# graficando vector en R^2 [2, 4]\n",
        "def dibujar_figura():\n",
        "    \"\"\"Crea la figura de pyplot y los ejes.\"\"\"\n",
        "    fix, ax = plt.subplots()\n",
        "    for spine in [\"left\", \"bottom\"]:\n",
        "        ax.spines[spine].set_position(\"zero\")\n",
        "\n",
        "    return ax\n"
      ],
      "metadata": {
        "id": "YnwepOFNieOl"
      },
      "execution_count": 5,
      "outputs": []
    },
    {
      "cell_type": "code",
      "source": [
        "def vector_plano(vector, color):\n",
        "    \"\"\"Genera el grafico de los vectores en el plano\"\"\"\n",
        "    v = vector\n",
        "    ax.annotate(\" \", xy=v, xytext=[0, 0], color=color,\n",
        "                arrowprops=dict(facecolor=color,\n",
        "                                shrink=0,\n",
        "                                alpha=0.7,\n",
        "                                width=0.5))\n",
        "    ax.text(1.1 * v[0], 1.1 * v[1], v)"
      ],
      "metadata": {
        "id": "7PL_cIH9iil3"
      },
      "execution_count": 6,
      "outputs": []
    },
    {
      "cell_type": "code",
      "source": [
        "ax = dibujar_figura()\n",
        "ax.set_xlim(-5, 5)\n",
        "ax.set_ylim(-5, 5)\n",
        "ax.grid()\n",
        "vector_plano([2, 4], \"blue\")\n",
        "\n",
        "# Suma de dos vectores\n",
        "# [3, 2] + [1, -2]\n",
        "\n",
        "ax = dibujar_figura()\n",
        "ax.set_xlim(-5, 5)\n",
        "ax.set_ylim(-5, 5)\n",
        "ax.grid()\n",
        "\n",
        "vecs = [[3, 2], [1, -2]]\n",
        "\n",
        "for v in vecs:\n",
        "    vector_plano(v, \"blue\")\n",
        "v = np.array([2, 4]) + np.array([2, -2])\n",
        "vector_plano(v, \"red\")\n",
        "\n",
        "# Multiplicacion de un vector con un escalar\n",
        "# [1, 2] * 2\n",
        "ax = dibujar_figura()\n",
        "ax.set_xlim(-6, 6)\n",
        "ax.set_ylim(-6, 6)\n",
        "ax.grid()\n",
        "\n",
        "v = np.array([1, 2])\n",
        "vector_plano(v, \"blue\")\n",
        "\n",
        "v = v * 2\n",
        "vector_plano(v, \"red\")"
      ],
      "metadata": {
        "id": "6fBo8fKEio1k"
      },
      "execution_count": null,
      "outputs": []
    },
    {
      "cell_type": "code",
      "source": [
        "\"\"\"\n",
        "Resolución de sistemas de ecuaciones con python\n",
        "\"\"\"\n",
        "# También podemos resolver sistemas de ecuaciones haciendo uso de la\n",
        "# libreria Sympy\n",
        "# Primero hacemos una matriz\n",
        "A = sympy.Matrix(( (2, 3, 5), (3, 6, 0), (8, 3, 6) ))\n",
        "# Creamos la matriz B\n",
        "b = sympy.Matrix(3,1,(52,61,75))\n",
        "# Resolvemos la ecuacion Ax = b\n",
        "x = A.LUsolve(b)\n",
        "# Comprobando la solución\n",
        "print (A*x)"
      ],
      "metadata": {
        "id": "dpLpyKJbivCX"
      },
      "execution_count": null,
      "outputs": []
    },
    {
      "cell_type": "markdown",
      "source": [
        "Resuelva los siguientes sistemas de ecuaciones:\n",
        "\n",
        "![image.png](data:image/png;base64,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)\n",
        ".\n",
        ".\n",
        "![image.png](data:image/png;base64,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)\n",
        "\n"
      ],
      "metadata": {
        "id": "olAemB13i_sL"
      }
    }
  ]
}